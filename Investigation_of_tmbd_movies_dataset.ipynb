{
 "cells": [
  {
   "cell_type": "markdown",
   "id": "4d9e8249",
   "metadata": {},
   "source": [
    "# Data Analysis On The Movie DataBase\n",
    "> ## Table of Content\n",
    "> [Introduction](#Introduction)<br>\n",
    "> [Data Wrangling](#Data-Wrangling)<br>\n",
    "> [Exploratory Data Analysis](#Exploratory-Data-Analysis)<br>\n",
    "> [Conclusion and Limitations](#Conclusion)"
   ]
  },
  {
   "cell_type": "markdown",
   "id": "04da3515",
   "metadata": {},
   "source": [
    "## Introduction\n",
    "> This is a detailed analysis of a tmdb dataset of over 10,000 movies over a period of 1960 to 2015. Details of the movies were given including their popularity, revenue, budgets, the movie genres etc.<br>\n",
    "> Research Questions were drawn and the dataset was wrangled and explored to answer the Questions to a good depth. Analysis were made and datas were also further cleaned for easy exploratory analysis"
   ]
  },
  {
   "cell_type": "markdown",
   "id": "cf79cefc",
   "metadata": {},
   "source": [
    "### Research Questions\n",
    "> **A few questions we would be answering in this analysis**\n",
    "> 1. Do movies get more popularity with time and which decade enjoyed high amount of popularity<br>\n",
    "> 2. Which Genre of music made more profit in the 21st century<br>\n",
    "> 3. Movie with the highest and lowest profit in the 21st century<br>\n",
    "> 4. Do Movies with higher runtime enjoy more popularity<br>\n",
    "> 5. Is there any correlation between runtime and profit<br>\n",
    "> 6. What is the relationship between profit and revenue"
   ]
  },
  {
   "cell_type": "code",
   "execution_count": 91,
   "id": "2e80760c",
   "metadata": {
    "scrolled": false
   },
   "outputs": [
    {
     "data": {
      "text/html": [
       "<div>\n",
       "<style scoped>\n",
       "    .dataframe tbody tr th:only-of-type {\n",
       "        vertical-align: middle;\n",
       "    }\n",
       "\n",
       "    .dataframe tbody tr th {\n",
       "        vertical-align: top;\n",
       "    }\n",
       "\n",
       "    .dataframe thead th {\n",
       "        text-align: right;\n",
       "    }\n",
       "</style>\n",
       "<table border=\"1\" class=\"dataframe\">\n",
       "  <thead>\n",
       "    <tr style=\"text-align: right;\">\n",
       "      <th></th>\n",
       "      <th>id</th>\n",
       "      <th>imdb_id</th>\n",
       "      <th>popularity</th>\n",
       "      <th>budget</th>\n",
       "      <th>revenue</th>\n",
       "      <th>original_title</th>\n",
       "      <th>cast</th>\n",
       "      <th>homepage</th>\n",
       "      <th>director</th>\n",
       "      <th>tagline</th>\n",
       "      <th>...</th>\n",
       "      <th>overview</th>\n",
       "      <th>runtime</th>\n",
       "      <th>genres</th>\n",
       "      <th>production_companies</th>\n",
       "      <th>release_date</th>\n",
       "      <th>vote_count</th>\n",
       "      <th>vote_average</th>\n",
       "      <th>release_year</th>\n",
       "      <th>budget_adj</th>\n",
       "      <th>revenue_adj</th>\n",
       "    </tr>\n",
       "  </thead>\n",
       "  <tbody>\n",
       "    <tr>\n",
       "      <th>0</th>\n",
       "      <td>135397</td>\n",
       "      <td>tt0369610</td>\n",
       "      <td>32.985763</td>\n",
       "      <td>150000000</td>\n",
       "      <td>1513528810</td>\n",
       "      <td>Jurassic World</td>\n",
       "      <td>Chris Pratt|Bryce Dallas Howard|Irrfan Khan|Vi...</td>\n",
       "      <td>http://www.jurassicworld.com/</td>\n",
       "      <td>Colin Trevorrow</td>\n",
       "      <td>The park is open.</td>\n",
       "      <td>...</td>\n",
       "      <td>Twenty-two years after the events of Jurassic ...</td>\n",
       "      <td>124</td>\n",
       "      <td>Action|Adventure|Science Fiction|Thriller</td>\n",
       "      <td>Universal Studios|Amblin Entertainment|Legenda...</td>\n",
       "      <td>6/9/15</td>\n",
       "      <td>5562</td>\n",
       "      <td>6.5</td>\n",
       "      <td>2015</td>\n",
       "      <td>1.379999e+08</td>\n",
       "      <td>1.392446e+09</td>\n",
       "    </tr>\n",
       "    <tr>\n",
       "      <th>1</th>\n",
       "      <td>76341</td>\n",
       "      <td>tt1392190</td>\n",
       "      <td>28.419936</td>\n",
       "      <td>150000000</td>\n",
       "      <td>378436354</td>\n",
       "      <td>Mad Max: Fury Road</td>\n",
       "      <td>Tom Hardy|Charlize Theron|Hugh Keays-Byrne|Nic...</td>\n",
       "      <td>http://www.madmaxmovie.com/</td>\n",
       "      <td>George Miller</td>\n",
       "      <td>What a Lovely Day.</td>\n",
       "      <td>...</td>\n",
       "      <td>An apocalyptic story set in the furthest reach...</td>\n",
       "      <td>120</td>\n",
       "      <td>Action|Adventure|Science Fiction|Thriller</td>\n",
       "      <td>Village Roadshow Pictures|Kennedy Miller Produ...</td>\n",
       "      <td>5/13/15</td>\n",
       "      <td>6185</td>\n",
       "      <td>7.1</td>\n",
       "      <td>2015</td>\n",
       "      <td>1.379999e+08</td>\n",
       "      <td>3.481613e+08</td>\n",
       "    </tr>\n",
       "    <tr>\n",
       "      <th>2</th>\n",
       "      <td>262500</td>\n",
       "      <td>tt2908446</td>\n",
       "      <td>13.112507</td>\n",
       "      <td>110000000</td>\n",
       "      <td>295238201</td>\n",
       "      <td>Insurgent</td>\n",
       "      <td>Shailene Woodley|Theo James|Kate Winslet|Ansel...</td>\n",
       "      <td>http://www.thedivergentseries.movie/#insurgent</td>\n",
       "      <td>Robert Schwentke</td>\n",
       "      <td>One Choice Can Destroy You</td>\n",
       "      <td>...</td>\n",
       "      <td>Beatrice Prior must confront her inner demons ...</td>\n",
       "      <td>119</td>\n",
       "      <td>Adventure|Science Fiction|Thriller</td>\n",
       "      <td>Summit Entertainment|Mandeville Films|Red Wago...</td>\n",
       "      <td>3/18/15</td>\n",
       "      <td>2480</td>\n",
       "      <td>6.3</td>\n",
       "      <td>2015</td>\n",
       "      <td>1.012000e+08</td>\n",
       "      <td>2.716190e+08</td>\n",
       "    </tr>\n",
       "    <tr>\n",
       "      <th>3</th>\n",
       "      <td>140607</td>\n",
       "      <td>tt2488496</td>\n",
       "      <td>11.173104</td>\n",
       "      <td>200000000</td>\n",
       "      <td>2068178225</td>\n",
       "      <td>Star Wars: The Force Awakens</td>\n",
       "      <td>Harrison Ford|Mark Hamill|Carrie Fisher|Adam D...</td>\n",
       "      <td>http://www.starwars.com/films/star-wars-episod...</td>\n",
       "      <td>J.J. Abrams</td>\n",
       "      <td>Every generation has a story.</td>\n",
       "      <td>...</td>\n",
       "      <td>Thirty years after defeating the Galactic Empi...</td>\n",
       "      <td>136</td>\n",
       "      <td>Action|Adventure|Science Fiction|Fantasy</td>\n",
       "      <td>Lucasfilm|Truenorth Productions|Bad Robot</td>\n",
       "      <td>12/15/15</td>\n",
       "      <td>5292</td>\n",
       "      <td>7.5</td>\n",
       "      <td>2015</td>\n",
       "      <td>1.839999e+08</td>\n",
       "      <td>1.902723e+09</td>\n",
       "    </tr>\n",
       "    <tr>\n",
       "      <th>4</th>\n",
       "      <td>168259</td>\n",
       "      <td>tt2820852</td>\n",
       "      <td>9.335014</td>\n",
       "      <td>190000000</td>\n",
       "      <td>1506249360</td>\n",
       "      <td>Furious 7</td>\n",
       "      <td>Vin Diesel|Paul Walker|Jason Statham|Michelle ...</td>\n",
       "      <td>http://www.furious7.com/</td>\n",
       "      <td>James Wan</td>\n",
       "      <td>Vengeance Hits Home</td>\n",
       "      <td>...</td>\n",
       "      <td>Deckard Shaw seeks revenge against Dominic Tor...</td>\n",
       "      <td>137</td>\n",
       "      <td>Action|Crime|Thriller</td>\n",
       "      <td>Universal Pictures|Original Film|Media Rights ...</td>\n",
       "      <td>4/1/15</td>\n",
       "      <td>2947</td>\n",
       "      <td>7.3</td>\n",
       "      <td>2015</td>\n",
       "      <td>1.747999e+08</td>\n",
       "      <td>1.385749e+09</td>\n",
       "    </tr>\n",
       "  </tbody>\n",
       "</table>\n",
       "<p>5 rows × 21 columns</p>\n",
       "</div>"
      ],
      "text/plain": [
       "       id    imdb_id  popularity     budget     revenue  \\\n",
       "0  135397  tt0369610   32.985763  150000000  1513528810   \n",
       "1   76341  tt1392190   28.419936  150000000   378436354   \n",
       "2  262500  tt2908446   13.112507  110000000   295238201   \n",
       "3  140607  tt2488496   11.173104  200000000  2068178225   \n",
       "4  168259  tt2820852    9.335014  190000000  1506249360   \n",
       "\n",
       "                 original_title  \\\n",
       "0                Jurassic World   \n",
       "1            Mad Max: Fury Road   \n",
       "2                     Insurgent   \n",
       "3  Star Wars: The Force Awakens   \n",
       "4                     Furious 7   \n",
       "\n",
       "                                                cast  \\\n",
       "0  Chris Pratt|Bryce Dallas Howard|Irrfan Khan|Vi...   \n",
       "1  Tom Hardy|Charlize Theron|Hugh Keays-Byrne|Nic...   \n",
       "2  Shailene Woodley|Theo James|Kate Winslet|Ansel...   \n",
       "3  Harrison Ford|Mark Hamill|Carrie Fisher|Adam D...   \n",
       "4  Vin Diesel|Paul Walker|Jason Statham|Michelle ...   \n",
       "\n",
       "                                            homepage          director  \\\n",
       "0                      http://www.jurassicworld.com/   Colin Trevorrow   \n",
       "1                        http://www.madmaxmovie.com/     George Miller   \n",
       "2     http://www.thedivergentseries.movie/#insurgent  Robert Schwentke   \n",
       "3  http://www.starwars.com/films/star-wars-episod...       J.J. Abrams   \n",
       "4                           http://www.furious7.com/         James Wan   \n",
       "\n",
       "                         tagline  ...  \\\n",
       "0              The park is open.  ...   \n",
       "1             What a Lovely Day.  ...   \n",
       "2     One Choice Can Destroy You  ...   \n",
       "3  Every generation has a story.  ...   \n",
       "4            Vengeance Hits Home  ...   \n",
       "\n",
       "                                            overview runtime  \\\n",
       "0  Twenty-two years after the events of Jurassic ...     124   \n",
       "1  An apocalyptic story set in the furthest reach...     120   \n",
       "2  Beatrice Prior must confront her inner demons ...     119   \n",
       "3  Thirty years after defeating the Galactic Empi...     136   \n",
       "4  Deckard Shaw seeks revenge against Dominic Tor...     137   \n",
       "\n",
       "                                      genres  \\\n",
       "0  Action|Adventure|Science Fiction|Thriller   \n",
       "1  Action|Adventure|Science Fiction|Thriller   \n",
       "2         Adventure|Science Fiction|Thriller   \n",
       "3   Action|Adventure|Science Fiction|Fantasy   \n",
       "4                      Action|Crime|Thriller   \n",
       "\n",
       "                                production_companies release_date vote_count  \\\n",
       "0  Universal Studios|Amblin Entertainment|Legenda...       6/9/15       5562   \n",
       "1  Village Roadshow Pictures|Kennedy Miller Produ...      5/13/15       6185   \n",
       "2  Summit Entertainment|Mandeville Films|Red Wago...      3/18/15       2480   \n",
       "3          Lucasfilm|Truenorth Productions|Bad Robot     12/15/15       5292   \n",
       "4  Universal Pictures|Original Film|Media Rights ...       4/1/15       2947   \n",
       "\n",
       "   vote_average  release_year    budget_adj   revenue_adj  \n",
       "0           6.5          2015  1.379999e+08  1.392446e+09  \n",
       "1           7.1          2015  1.379999e+08  3.481613e+08  \n",
       "2           6.3          2015  1.012000e+08  2.716190e+08  \n",
       "3           7.5          2015  1.839999e+08  1.902723e+09  \n",
       "4           7.3          2015  1.747999e+08  1.385749e+09  \n",
       "\n",
       "[5 rows x 21 columns]"
      ]
     },
     "execution_count": 91,
     "metadata": {},
     "output_type": "execute_result"
    }
   ],
   "source": [
    "#Loading the Dataset and importing libraries for the project and checking out for the first five rows\n",
    "\n",
    "import pandas as pd\n",
    "import numpy as np\n",
    "import matplotlib.pyplot as plt\n",
    "%matplotlib inline\n",
    "\n",
    "movies = pd.read_csv('tmdb-movies.csv')\n",
    "movies.head()"
   ]
  },
  {
   "cell_type": "markdown",
   "id": "564b1796",
   "metadata": {},
   "source": [
    "## Data Wrangling\n",
    "> In the section, we will be assessing and cleaning our data, we will fine-tune it to answer our Questions<br><br>\n",
    "**Observations in the data**<br>\n",
    "> 1. There are so many columns that is not needed for what we are trying to analyse<br>\n",
    "> 2. Most of the movies have more than one genre but we will be making use of the first genre\n",
    "**What we will be needed to be done**<br>\n",
    "> 1. Missing Datas would be carefully looked into and dropped with their rows or columns as at when necessary.<br>\n",
    "> 2. Columns like tagline, keywords, production_companies, overview, vote_count, vote_average would be dropped as they were not necessary for answering our research questions<br>\n",
    "> 3. Duplicate Datas would also dropped.<br>\n",
    "> 4. A *decades* column was created to categorize the released_year to their respective decades"
   ]
  },
  {
   "cell_type": "code",
   "execution_count": 92,
   "id": "e1ae9007",
   "metadata": {},
   "outputs": [
    {
     "data": {
      "text/plain": [
       "(10866, 21)"
      ]
     },
     "execution_count": 92,
     "metadata": {},
     "output_type": "execute_result"
    }
   ],
   "source": [
    "#Finding out the number of rows and columns in the Dataset\n",
    "movies.shape"
   ]
  },
  {
   "cell_type": "code",
   "execution_count": 93,
   "id": "777d357f",
   "metadata": {},
   "outputs": [
    {
     "name": "stdout",
     "output_type": "stream",
     "text": [
      "<class 'pandas.core.frame.DataFrame'>\n",
      "RangeIndex: 10866 entries, 0 to 10865\n",
      "Data columns (total 21 columns):\n",
      " #   Column                Non-Null Count  Dtype  \n",
      "---  ------                --------------  -----  \n",
      " 0   id                    10866 non-null  int64  \n",
      " 1   imdb_id               10856 non-null  object \n",
      " 2   popularity            10866 non-null  float64\n",
      " 3   budget                10866 non-null  int64  \n",
      " 4   revenue               10866 non-null  int64  \n",
      " 5   original_title        10866 non-null  object \n",
      " 6   cast                  10790 non-null  object \n",
      " 7   homepage              2936 non-null   object \n",
      " 8   director              10822 non-null  object \n",
      " 9   tagline               8042 non-null   object \n",
      " 10  keywords              9373 non-null   object \n",
      " 11  overview              10862 non-null  object \n",
      " 12  runtime               10866 non-null  int64  \n",
      " 13  genres                10843 non-null  object \n",
      " 14  production_companies  9836 non-null   object \n",
      " 15  release_date          10866 non-null  object \n",
      " 16  vote_count            10866 non-null  int64  \n",
      " 17  vote_average          10866 non-null  float64\n",
      " 18  release_year          10866 non-null  int64  \n",
      " 19  budget_adj            10866 non-null  float64\n",
      " 20  revenue_adj           10866 non-null  float64\n",
      "dtypes: float64(4), int64(6), object(11)\n",
      "memory usage: 1.7+ MB\n"
     ]
    }
   ],
   "source": [
    "# A brief information of the column's properties\n",
    "\n",
    "movies.info()"
   ]
  },
  {
   "cell_type": "code",
   "execution_count": 94,
   "id": "980b1eec",
   "metadata": {},
   "outputs": [
    {
     "data": {
      "text/plain": [
       "id                         0\n",
       "imdb_id                   10\n",
       "popularity                 0\n",
       "budget                     0\n",
       "revenue                    0\n",
       "original_title             0\n",
       "cast                      76\n",
       "homepage                7930\n",
       "director                  44\n",
       "tagline                 2824\n",
       "keywords                1493\n",
       "overview                   4\n",
       "runtime                    0\n",
       "genres                    23\n",
       "production_companies    1030\n",
       "release_date               0\n",
       "vote_count                 0\n",
       "vote_average               0\n",
       "release_year               0\n",
       "budget_adj                 0\n",
       "revenue_adj                0\n",
       "dtype: int64"
      ]
     },
     "execution_count": 94,
     "metadata": {},
     "output_type": "execute_result"
    }
   ],
   "source": [
    "# Check columns with misssing data and see if we should discard the ones\n",
    "# we would not be needing or fill the ones that will help our analysis\n",
    "movies.isna().sum()"
   ]
  },
  {
   "cell_type": "code",
   "execution_count": 95,
   "id": "c18c918e",
   "metadata": {},
   "outputs": [
    {
     "data": {
      "text/plain": [
       "0"
      ]
     },
     "execution_count": 95,
     "metadata": {},
     "output_type": "execute_result"
    }
   ],
   "source": [
    "# Filling the homepage column with None if it has a missing value and confirm\n",
    "movies.homepage = movies.homepage.fillna(\"none\")\n",
    "movies.homepage.isna().sum()"
   ]
  },
  {
   "cell_type": "code",
   "execution_count": 96,
   "id": "c69e1b62",
   "metadata": {
    "scrolled": true
   },
   "outputs": [
    {
     "data": {
      "text/html": [
       "<div>\n",
       "<style scoped>\n",
       "    .dataframe tbody tr th:only-of-type {\n",
       "        vertical-align: middle;\n",
       "    }\n",
       "\n",
       "    .dataframe tbody tr th {\n",
       "        vertical-align: top;\n",
       "    }\n",
       "\n",
       "    .dataframe thead th {\n",
       "        text-align: right;\n",
       "    }\n",
       "</style>\n",
       "<table border=\"1\" class=\"dataframe\">\n",
       "  <thead>\n",
       "    <tr style=\"text-align: right;\">\n",
       "      <th></th>\n",
       "      <th>id</th>\n",
       "      <th>imdb_id</th>\n",
       "      <th>popularity</th>\n",
       "      <th>budget</th>\n",
       "      <th>revenue</th>\n",
       "      <th>original_title</th>\n",
       "      <th>cast</th>\n",
       "      <th>homepage</th>\n",
       "      <th>director</th>\n",
       "      <th>runtime</th>\n",
       "      <th>genres</th>\n",
       "      <th>release_date</th>\n",
       "      <th>release_year</th>\n",
       "      <th>budget_adj</th>\n",
       "      <th>revenue_adj</th>\n",
       "    </tr>\n",
       "  </thead>\n",
       "  <tbody>\n",
       "    <tr>\n",
       "      <th>0</th>\n",
       "      <td>135397</td>\n",
       "      <td>tt0369610</td>\n",
       "      <td>32.985763</td>\n",
       "      <td>150000000</td>\n",
       "      <td>1513528810</td>\n",
       "      <td>Jurassic World</td>\n",
       "      <td>Chris Pratt|Bryce Dallas Howard|Irrfan Khan|Vi...</td>\n",
       "      <td>http://www.jurassicworld.com/</td>\n",
       "      <td>Colin Trevorrow</td>\n",
       "      <td>124</td>\n",
       "      <td>Action|Adventure|Science Fiction|Thriller</td>\n",
       "      <td>6/9/15</td>\n",
       "      <td>2015</td>\n",
       "      <td>1.379999e+08</td>\n",
       "      <td>1.392446e+09</td>\n",
       "    </tr>\n",
       "  </tbody>\n",
       "</table>\n",
       "</div>"
      ],
      "text/plain": [
       "       id    imdb_id  popularity     budget     revenue  original_title  \\\n",
       "0  135397  tt0369610   32.985763  150000000  1513528810  Jurassic World   \n",
       "\n",
       "                                                cast  \\\n",
       "0  Chris Pratt|Bryce Dallas Howard|Irrfan Khan|Vi...   \n",
       "\n",
       "                        homepage         director  runtime  \\\n",
       "0  http://www.jurassicworld.com/  Colin Trevorrow      124   \n",
       "\n",
       "                                      genres release_date  release_year  \\\n",
       "0  Action|Adventure|Science Fiction|Thriller       6/9/15          2015   \n",
       "\n",
       "     budget_adj   revenue_adj  \n",
       "0  1.379999e+08  1.392446e+09  "
      ]
     },
     "execution_count": 96,
     "metadata": {},
     "output_type": "execute_result"
    }
   ],
   "source": [
    "# Dropping colums with too may missing values and some that does not help with the questions we are trying to answer\n",
    "movies = movies.drop(['tagline', 'keywords', 'production_companies', 'overview', 'vote_count', 'vote_average'], axis=1)\n",
    "movies.head(1)"
   ]
  },
  {
   "cell_type": "code",
   "execution_count": 97,
   "id": "741a1fd5",
   "metadata": {},
   "outputs": [
    {
     "data": {
      "text/html": [
       "<div>\n",
       "<style scoped>\n",
       "    .dataframe tbody tr th:only-of-type {\n",
       "        vertical-align: middle;\n",
       "    }\n",
       "\n",
       "    .dataframe tbody tr th {\n",
       "        vertical-align: top;\n",
       "    }\n",
       "\n",
       "    .dataframe thead th {\n",
       "        text-align: right;\n",
       "    }\n",
       "</style>\n",
       "<table border=\"1\" class=\"dataframe\">\n",
       "  <thead>\n",
       "    <tr style=\"text-align: right;\">\n",
       "      <th></th>\n",
       "      <th>id</th>\n",
       "      <th>imdb_id</th>\n",
       "      <th>popularity</th>\n",
       "      <th>budget</th>\n",
       "      <th>revenue</th>\n",
       "      <th>original_title</th>\n",
       "      <th>cast</th>\n",
       "      <th>homepage</th>\n",
       "      <th>director</th>\n",
       "      <th>runtime</th>\n",
       "      <th>genres</th>\n",
       "      <th>release_date</th>\n",
       "      <th>release_year</th>\n",
       "    </tr>\n",
       "  </thead>\n",
       "  <tbody>\n",
       "    <tr>\n",
       "      <th>0</th>\n",
       "      <td>135397</td>\n",
       "      <td>tt0369610</td>\n",
       "      <td>32.985763</td>\n",
       "      <td>150000000</td>\n",
       "      <td>1513528810</td>\n",
       "      <td>Jurassic World</td>\n",
       "      <td>Chris Pratt|Bryce Dallas Howard|Irrfan Khan|Vi...</td>\n",
       "      <td>http://www.jurassicworld.com/</td>\n",
       "      <td>Colin Trevorrow</td>\n",
       "      <td>124</td>\n",
       "      <td>Action|Adventure|Science Fiction|Thriller</td>\n",
       "      <td>6/9/15</td>\n",
       "      <td>2015</td>\n",
       "    </tr>\n",
       "  </tbody>\n",
       "</table>\n",
       "</div>"
      ],
      "text/plain": [
       "       id    imdb_id  popularity     budget     revenue  original_title  \\\n",
       "0  135397  tt0369610   32.985763  150000000  1513528810  Jurassic World   \n",
       "\n",
       "                                                cast  \\\n",
       "0  Chris Pratt|Bryce Dallas Howard|Irrfan Khan|Vi...   \n",
       "\n",
       "                        homepage         director  runtime  \\\n",
       "0  http://www.jurassicworld.com/  Colin Trevorrow      124   \n",
       "\n",
       "                                      genres release_date  release_year  \n",
       "0  Action|Adventure|Science Fiction|Thriller       6/9/15          2015  "
      ]
     },
     "execution_count": 97,
     "metadata": {},
     "output_type": "execute_result"
    }
   ],
   "source": [
    "# Further dropping the revenue_adj and budget_adj columns as their values aren't precise.\n",
    "movies = movies.drop(['revenue_adj', 'budget_adj'], axis=1)\n",
    "movies.head(1)"
   ]
  },
  {
   "cell_type": "code",
   "execution_count": 98,
   "id": "d658eb56",
   "metadata": {},
   "outputs": [
    {
     "data": {
      "text/plain": [
       "id                 0\n",
       "imdb_id           10\n",
       "popularity         0\n",
       "budget             0\n",
       "revenue            0\n",
       "original_title     0\n",
       "cast              76\n",
       "homepage           0\n",
       "director          44\n",
       "runtime            0\n",
       "genres            23\n",
       "release_date       0\n",
       "release_year       0\n",
       "dtype: int64"
      ]
     },
     "execution_count": 98,
     "metadata": {},
     "output_type": "execute_result"
    }
   ],
   "source": [
    "# Number of missing columns on each column\n",
    "movies.isna().sum()"
   ]
  },
  {
   "cell_type": "code",
   "execution_count": 99,
   "id": "67f0dcbf",
   "metadata": {},
   "outputs": [],
   "source": [
    "# Dropping rows of missing values\n",
    "movies.dropna(axis=0, inplace=True)"
   ]
  },
  {
   "cell_type": "code",
   "execution_count": 100,
   "id": "6d4757d0",
   "metadata": {
    "scrolled": true
   },
   "outputs": [
    {
     "data": {
      "text/plain": [
       "id                0\n",
       "imdb_id           0\n",
       "popularity        0\n",
       "budget            0\n",
       "revenue           0\n",
       "original_title    0\n",
       "cast              0\n",
       "homepage          0\n",
       "director          0\n",
       "runtime           0\n",
       "genres            0\n",
       "release_date      0\n",
       "release_year      0\n",
       "dtype: int64"
      ]
     },
     "execution_count": 100,
     "metadata": {},
     "output_type": "execute_result"
    }
   ],
   "source": [
    "# onfirming all missing values have been dropped\n",
    "movies.isna().sum()"
   ]
  },
  {
   "cell_type": "code",
   "execution_count": 101,
   "id": "2e3860df",
   "metadata": {},
   "outputs": [
    {
     "data": {
      "text/plain": [
       "(10727, 13)"
      ]
     },
     "execution_count": 101,
     "metadata": {},
     "output_type": "execute_result"
    }
   ],
   "source": [
    "# Checking out the columns and rows we have now\n",
    "movies.shape"
   ]
  },
  {
   "cell_type": "code",
   "execution_count": 102,
   "id": "205fde07",
   "metadata": {},
   "outputs": [
    {
     "data": {
      "text/plain": [
       "id                  int64\n",
       "imdb_id            object\n",
       "popularity        float64\n",
       "budget              int64\n",
       "revenue             int64\n",
       "original_title     object\n",
       "cast               object\n",
       "homepage           object\n",
       "director           object\n",
       "runtime             int64\n",
       "genres             object\n",
       "release_date       object\n",
       "release_year        int64\n",
       "dtype: object"
      ]
     },
     "execution_count": 102,
     "metadata": {},
     "output_type": "execute_result"
    }
   ],
   "source": [
    "# Checking the data types of our columns\n",
    "movies.dtypes"
   ]
  },
  {
   "cell_type": "code",
   "execution_count": 103,
   "id": "f290543e",
   "metadata": {
    "scrolled": true
   },
   "outputs": [
    {
     "data": {
      "text/plain": [
       "id                         int64\n",
       "imdb_id                   object\n",
       "popularity               float64\n",
       "budget                     int64\n",
       "revenue                    int64\n",
       "original_title            object\n",
       "cast                      object\n",
       "homepage                  object\n",
       "director                  object\n",
       "runtime                    int64\n",
       "genres                    object\n",
       "release_date      datetime64[ns]\n",
       "release_year               int64\n",
       "dtype: object"
      ]
     },
     "execution_count": 103,
     "metadata": {},
     "output_type": "execute_result"
    }
   ],
   "source": [
    "# Changing our date to a datetime datatype as it is easier to work with and confirming it\n",
    "movies.release_date = movies.release_date.astype('datetime64[s]')\n",
    "movies.dtypes"
   ]
  },
  {
   "cell_type": "code",
   "execution_count": 104,
   "id": "465ad5ec",
   "metadata": {
    "scrolled": true
   },
   "outputs": [
    {
     "data": {
      "text/plain": [
       "id                         int64\n",
       "imdb_id                   object\n",
       "popularity               float64\n",
       "budget                   float64\n",
       "revenue                  float64\n",
       "original_title            object\n",
       "cast                      object\n",
       "homepage                  object\n",
       "director                  object\n",
       "runtime                    int64\n",
       "genres                    object\n",
       "release_date      datetime64[ns]\n",
       "release_year               int64\n",
       "dtype: object"
      ]
     },
     "execution_count": 104,
     "metadata": {},
     "output_type": "execute_result"
    }
   ],
   "source": [
    "# Converting budget and revenue to float as it is in a currency value\n",
    "movies.budget = movies.budget.astype(float)\n",
    "movies.revenue = movies.revenue.astype(float)\n",
    "movies.dtypes"
   ]
  },
  {
   "cell_type": "code",
   "execution_count": 105,
   "id": "c6291b97",
   "metadata": {},
   "outputs": [
    {
     "data": {
      "text/plain": [
       "1"
      ]
     },
     "execution_count": 105,
     "metadata": {},
     "output_type": "execute_result"
    }
   ],
   "source": [
    "# Checking for duplicate datas\n",
    "movies.duplicated().sum()"
   ]
  },
  {
   "cell_type": "code",
   "execution_count": 106,
   "id": "a4da7602",
   "metadata": {},
   "outputs": [],
   "source": [
    "#dropping duplicate datas and confirming with shape\n",
    "movies.drop_duplicates(inplace=True)"
   ]
  },
  {
   "cell_type": "code",
   "execution_count": 107,
   "id": "0edf6758",
   "metadata": {},
   "outputs": [
    {
     "data": {
      "text/plain": [
       "0"
      ]
     },
     "execution_count": 107,
     "metadata": {},
     "output_type": "execute_result"
    }
   ],
   "source": [
    "# Confirming if we still have duplicates\n",
    "movies.duplicated().sum()"
   ]
  },
  {
   "cell_type": "code",
   "execution_count": 108,
   "id": "17da91ef",
   "metadata": {},
   "outputs": [
    {
     "data": {
      "text/plain": [
       "(10726, 13)"
      ]
     },
     "execution_count": 108,
     "metadata": {},
     "output_type": "execute_result"
    }
   ],
   "source": [
    "# Further confirming with shape\n",
    "movies.shape"
   ]
  },
  {
   "cell_type": "code",
   "execution_count": 109,
   "id": "909afd44",
   "metadata": {},
   "outputs": [
    {
     "data": {
      "text/html": [
       "<div>\n",
       "<style scoped>\n",
       "    .dataframe tbody tr th:only-of-type {\n",
       "        vertical-align: middle;\n",
       "    }\n",
       "\n",
       "    .dataframe tbody tr th {\n",
       "        vertical-align: top;\n",
       "    }\n",
       "\n",
       "    .dataframe thead th {\n",
       "        text-align: right;\n",
       "    }\n",
       "</style>\n",
       "<table border=\"1\" class=\"dataframe\">\n",
       "  <thead>\n",
       "    <tr style=\"text-align: right;\">\n",
       "      <th></th>\n",
       "      <th>id</th>\n",
       "      <th>imdb_id</th>\n",
       "      <th>popularity</th>\n",
       "      <th>budget</th>\n",
       "      <th>revenue</th>\n",
       "      <th>original_title</th>\n",
       "      <th>cast</th>\n",
       "      <th>homepage</th>\n",
       "      <th>director</th>\n",
       "      <th>runtime</th>\n",
       "      <th>genres</th>\n",
       "      <th>release_date</th>\n",
       "      <th>release_year</th>\n",
       "    </tr>\n",
       "  </thead>\n",
       "  <tbody>\n",
       "    <tr>\n",
       "      <th>0</th>\n",
       "      <td>135397</td>\n",
       "      <td>tt0369610</td>\n",
       "      <td>32.985763</td>\n",
       "      <td>150000000.0</td>\n",
       "      <td>1.513529e+09</td>\n",
       "      <td>Jurassic World</td>\n",
       "      <td>Chris Pratt|Bryce Dallas Howard|Irrfan Khan|Vi...</td>\n",
       "      <td>http://www.jurassicworld.com/</td>\n",
       "      <td>Colin Trevorrow</td>\n",
       "      <td>124</td>\n",
       "      <td>Action|Adventure|Science Fiction|Thriller</td>\n",
       "      <td>2015-06-09</td>\n",
       "      <td>2015</td>\n",
       "    </tr>\n",
       "    <tr>\n",
       "      <th>1</th>\n",
       "      <td>76341</td>\n",
       "      <td>tt1392190</td>\n",
       "      <td>28.419936</td>\n",
       "      <td>150000000.0</td>\n",
       "      <td>3.784364e+08</td>\n",
       "      <td>Mad Max: Fury Road</td>\n",
       "      <td>Tom Hardy|Charlize Theron|Hugh Keays-Byrne|Nic...</td>\n",
       "      <td>http://www.madmaxmovie.com/</td>\n",
       "      <td>George Miller</td>\n",
       "      <td>120</td>\n",
       "      <td>Action|Adventure|Science Fiction|Thriller</td>\n",
       "      <td>2015-05-13</td>\n",
       "      <td>2015</td>\n",
       "    </tr>\n",
       "    <tr>\n",
       "      <th>2</th>\n",
       "      <td>262500</td>\n",
       "      <td>tt2908446</td>\n",
       "      <td>13.112507</td>\n",
       "      <td>110000000.0</td>\n",
       "      <td>2.952382e+08</td>\n",
       "      <td>Insurgent</td>\n",
       "      <td>Shailene Woodley|Theo James|Kate Winslet|Ansel...</td>\n",
       "      <td>http://www.thedivergentseries.movie/#insurgent</td>\n",
       "      <td>Robert Schwentke</td>\n",
       "      <td>119</td>\n",
       "      <td>Adventure|Science Fiction|Thriller</td>\n",
       "      <td>2015-03-18</td>\n",
       "      <td>2015</td>\n",
       "    </tr>\n",
       "    <tr>\n",
       "      <th>3</th>\n",
       "      <td>140607</td>\n",
       "      <td>tt2488496</td>\n",
       "      <td>11.173104</td>\n",
       "      <td>200000000.0</td>\n",
       "      <td>2.068178e+09</td>\n",
       "      <td>Star Wars: The Force Awakens</td>\n",
       "      <td>Harrison Ford|Mark Hamill|Carrie Fisher|Adam D...</td>\n",
       "      <td>http://www.starwars.com/films/star-wars-episod...</td>\n",
       "      <td>J.J. Abrams</td>\n",
       "      <td>136</td>\n",
       "      <td>Action|Adventure|Science Fiction|Fantasy</td>\n",
       "      <td>2015-12-15</td>\n",
       "      <td>2015</td>\n",
       "    </tr>\n",
       "    <tr>\n",
       "      <th>4</th>\n",
       "      <td>168259</td>\n",
       "      <td>tt2820852</td>\n",
       "      <td>9.335014</td>\n",
       "      <td>190000000.0</td>\n",
       "      <td>1.506249e+09</td>\n",
       "      <td>Furious 7</td>\n",
       "      <td>Vin Diesel|Paul Walker|Jason Statham|Michelle ...</td>\n",
       "      <td>http://www.furious7.com/</td>\n",
       "      <td>James Wan</td>\n",
       "      <td>137</td>\n",
       "      <td>Action|Crime|Thriller</td>\n",
       "      <td>2015-04-01</td>\n",
       "      <td>2015</td>\n",
       "    </tr>\n",
       "  </tbody>\n",
       "</table>\n",
       "</div>"
      ],
      "text/plain": [
       "       id    imdb_id  popularity       budget       revenue  \\\n",
       "0  135397  tt0369610   32.985763  150000000.0  1.513529e+09   \n",
       "1   76341  tt1392190   28.419936  150000000.0  3.784364e+08   \n",
       "2  262500  tt2908446   13.112507  110000000.0  2.952382e+08   \n",
       "3  140607  tt2488496   11.173104  200000000.0  2.068178e+09   \n",
       "4  168259  tt2820852    9.335014  190000000.0  1.506249e+09   \n",
       "\n",
       "                 original_title  \\\n",
       "0                Jurassic World   \n",
       "1            Mad Max: Fury Road   \n",
       "2                     Insurgent   \n",
       "3  Star Wars: The Force Awakens   \n",
       "4                     Furious 7   \n",
       "\n",
       "                                                cast  \\\n",
       "0  Chris Pratt|Bryce Dallas Howard|Irrfan Khan|Vi...   \n",
       "1  Tom Hardy|Charlize Theron|Hugh Keays-Byrne|Nic...   \n",
       "2  Shailene Woodley|Theo James|Kate Winslet|Ansel...   \n",
       "3  Harrison Ford|Mark Hamill|Carrie Fisher|Adam D...   \n",
       "4  Vin Diesel|Paul Walker|Jason Statham|Michelle ...   \n",
       "\n",
       "                                            homepage          director  \\\n",
       "0                      http://www.jurassicworld.com/   Colin Trevorrow   \n",
       "1                        http://www.madmaxmovie.com/     George Miller   \n",
       "2     http://www.thedivergentseries.movie/#insurgent  Robert Schwentke   \n",
       "3  http://www.starwars.com/films/star-wars-episod...       J.J. Abrams   \n",
       "4                           http://www.furious7.com/         James Wan   \n",
       "\n",
       "   runtime                                     genres release_date  \\\n",
       "0      124  Action|Adventure|Science Fiction|Thriller   2015-06-09   \n",
       "1      120  Action|Adventure|Science Fiction|Thriller   2015-05-13   \n",
       "2      119         Adventure|Science Fiction|Thriller   2015-03-18   \n",
       "3      136   Action|Adventure|Science Fiction|Fantasy   2015-12-15   \n",
       "4      137                      Action|Crime|Thriller   2015-04-01   \n",
       "\n",
       "   release_year  \n",
       "0          2015  \n",
       "1          2015  \n",
       "2          2015  \n",
       "3          2015  \n",
       "4          2015  "
      ]
     },
     "execution_count": 109,
     "metadata": {},
     "output_type": "execute_result"
    }
   ],
   "source": [
    "#Checking out what our dataFrame looks like\n",
    "movies.head()"
   ]
  },
  {
   "cell_type": "code",
   "execution_count": 110,
   "id": "3f72318b",
   "metadata": {},
   "outputs": [
    {
     "data": {
      "text/plain": [
       "(10726, 13)"
      ]
     },
     "execution_count": 110,
     "metadata": {},
     "output_type": "execute_result"
    }
   ],
   "source": [
    "movies_new = movies[movies['cast'].str.contains('|')]\n",
    "movies_new.shape"
   ]
  },
  {
   "cell_type": "code",
   "execution_count": 111,
   "id": "d4debfda",
   "metadata": {},
   "outputs": [
    {
     "data": {
      "text/plain": [
       "(10726, 13)"
      ]
     },
     "execution_count": 111,
     "metadata": {},
     "output_type": "execute_result"
    }
   ],
   "source": [
    "movies_new['genres'] = movies_new['genres'].apply(lambda x: x.split(\"|\")[0])\n",
    "movies_new.shape"
   ]
  },
  {
   "cell_type": "code",
   "execution_count": 112,
   "id": "b4dc0123",
   "metadata": {},
   "outputs": [
    {
     "data": {
      "text/html": [
       "<div>\n",
       "<style scoped>\n",
       "    .dataframe tbody tr th:only-of-type {\n",
       "        vertical-align: middle;\n",
       "    }\n",
       "\n",
       "    .dataframe tbody tr th {\n",
       "        vertical-align: top;\n",
       "    }\n",
       "\n",
       "    .dataframe thead th {\n",
       "        text-align: right;\n",
       "    }\n",
       "</style>\n",
       "<table border=\"1\" class=\"dataframe\">\n",
       "  <thead>\n",
       "    <tr style=\"text-align: right;\">\n",
       "      <th></th>\n",
       "      <th>id</th>\n",
       "      <th>imdb_id</th>\n",
       "      <th>popularity</th>\n",
       "      <th>budget</th>\n",
       "      <th>revenue</th>\n",
       "      <th>original_title</th>\n",
       "      <th>cast</th>\n",
       "      <th>homepage</th>\n",
       "      <th>director</th>\n",
       "      <th>runtime</th>\n",
       "      <th>genres</th>\n",
       "      <th>release_date</th>\n",
       "      <th>release_year</th>\n",
       "    </tr>\n",
       "  </thead>\n",
       "  <tbody>\n",
       "    <tr>\n",
       "      <th>0</th>\n",
       "      <td>135397</td>\n",
       "      <td>tt0369610</td>\n",
       "      <td>32.985763</td>\n",
       "      <td>150000000.0</td>\n",
       "      <td>1.513529e+09</td>\n",
       "      <td>Jurassic World</td>\n",
       "      <td>Chris Pratt|Bryce Dallas Howard|Irrfan Khan|Vi...</td>\n",
       "      <td>http://www.jurassicworld.com/</td>\n",
       "      <td>Colin Trevorrow</td>\n",
       "      <td>124</td>\n",
       "      <td>Action</td>\n",
       "      <td>2015-06-09</td>\n",
       "      <td>2015</td>\n",
       "    </tr>\n",
       "    <tr>\n",
       "      <th>1</th>\n",
       "      <td>76341</td>\n",
       "      <td>tt1392190</td>\n",
       "      <td>28.419936</td>\n",
       "      <td>150000000.0</td>\n",
       "      <td>3.784364e+08</td>\n",
       "      <td>Mad Max: Fury Road</td>\n",
       "      <td>Tom Hardy|Charlize Theron|Hugh Keays-Byrne|Nic...</td>\n",
       "      <td>http://www.madmaxmovie.com/</td>\n",
       "      <td>George Miller</td>\n",
       "      <td>120</td>\n",
       "      <td>Action</td>\n",
       "      <td>2015-05-13</td>\n",
       "      <td>2015</td>\n",
       "    </tr>\n",
       "    <tr>\n",
       "      <th>2</th>\n",
       "      <td>262500</td>\n",
       "      <td>tt2908446</td>\n",
       "      <td>13.112507</td>\n",
       "      <td>110000000.0</td>\n",
       "      <td>2.952382e+08</td>\n",
       "      <td>Insurgent</td>\n",
       "      <td>Shailene Woodley|Theo James|Kate Winslet|Ansel...</td>\n",
       "      <td>http://www.thedivergentseries.movie/#insurgent</td>\n",
       "      <td>Robert Schwentke</td>\n",
       "      <td>119</td>\n",
       "      <td>Adventure</td>\n",
       "      <td>2015-03-18</td>\n",
       "      <td>2015</td>\n",
       "    </tr>\n",
       "  </tbody>\n",
       "</table>\n",
       "</div>"
      ],
      "text/plain": [
       "       id    imdb_id  popularity       budget       revenue  \\\n",
       "0  135397  tt0369610   32.985763  150000000.0  1.513529e+09   \n",
       "1   76341  tt1392190   28.419936  150000000.0  3.784364e+08   \n",
       "2  262500  tt2908446   13.112507  110000000.0  2.952382e+08   \n",
       "\n",
       "       original_title                                               cast  \\\n",
       "0      Jurassic World  Chris Pratt|Bryce Dallas Howard|Irrfan Khan|Vi...   \n",
       "1  Mad Max: Fury Road  Tom Hardy|Charlize Theron|Hugh Keays-Byrne|Nic...   \n",
       "2           Insurgent  Shailene Woodley|Theo James|Kate Winslet|Ansel...   \n",
       "\n",
       "                                         homepage          director  runtime  \\\n",
       "0                   http://www.jurassicworld.com/   Colin Trevorrow      124   \n",
       "1                     http://www.madmaxmovie.com/     George Miller      120   \n",
       "2  http://www.thedivergentseries.movie/#insurgent  Robert Schwentke      119   \n",
       "\n",
       "      genres release_date  release_year  \n",
       "0     Action   2015-06-09          2015  \n",
       "1     Action   2015-05-13          2015  \n",
       "2  Adventure   2015-03-18          2015  "
      ]
     },
     "execution_count": 112,
     "metadata": {},
     "output_type": "execute_result"
    }
   ],
   "source": [
    "movies_new.head(3)"
   ]
  },
  {
   "cell_type": "code",
   "execution_count": 113,
   "id": "4962c71a",
   "metadata": {},
   "outputs": [
    {
     "data": {
      "text/plain": [
       "2014    682\n",
       "2013    648\n",
       "2015    617\n",
       "2012    574\n",
       "2011    532\n",
       "2009    523\n",
       "2008    486\n",
       "2010    475\n",
       "2007    430\n",
       "2006    404\n",
       "2005    361\n",
       "2004    307\n",
       "2003    281\n",
       "2002    264\n",
       "2001    241\n",
       "2000    224\n",
       "1999    224\n",
       "1998    210\n",
       "1996    203\n",
       "1997    191\n",
       "1994    184\n",
       "1993    177\n",
       "1995    174\n",
       "1988    142\n",
       "1989    135\n",
       "1991    133\n",
       "1990    132\n",
       "1992    132\n",
       "1987    124\n",
       "1986    120\n",
       "1985    108\n",
       "1984    104\n",
       "1981     82\n",
       "1982     81\n",
       "1983     80\n",
       "1980     78\n",
       "1978     65\n",
       "1979     57\n",
       "1977     56\n",
       "1973     55\n",
       "1971     55\n",
       "1976     47\n",
       "1974     46\n",
       "1966     46\n",
       "1975     44\n",
       "1964     42\n",
       "1970     40\n",
       "1972     40\n",
       "1967     38\n",
       "1968     38\n",
       "1965     35\n",
       "1963     34\n",
       "1960     32\n",
       "1962     32\n",
       "1961     31\n",
       "1969     30\n",
       "Name: release_year, dtype: int64"
      ]
     },
     "execution_count": 113,
     "metadata": {},
     "output_type": "execute_result"
    }
   ],
   "source": [
    "# Checking counts for each release_year so as to group them effectively\n",
    "movies_new.release_year.value_counts()"
   ]
  },
  {
   "cell_type": "markdown",
   "id": "584af8dc",
   "metadata": {},
   "source": [
    "### Categorizing years\n",
    "**Sixties: 1960 - 1969**<br>\n",
    "**Seventies: 1970 - 1979**<br>\n",
    "**Eighties: 1980 - 1989**<br>\n",
    "**Nineties: 1990 - 1999**<br>\n",
    "**Noughties: 2000 - 2009**<br>\n",
    "**twenty-tens: 2010 - 2019**"
   ]
  },
  {
   "cell_type": "code",
   "execution_count": 114,
   "id": "40cabd48",
   "metadata": {},
   "outputs": [],
   "source": [
    "# Creating a new column (decades) and grouping release_year to them\n",
    "year_edges = [1959, 1969, 1979, 1989, 1999, 2009, 2019]\n",
    "year_labels = ['Sixties', 'Seventies', 'Eighties', 'Nineties', 'Noughties', 'Twenty-tens']\n",
    "\n",
    "movies_new['decades'] = pd.cut(movies_new['release_year'], year_edges, labels=year_labels)"
   ]
  },
  {
   "cell_type": "code",
   "execution_count": 115,
   "id": "1f4fb92d",
   "metadata": {
    "scrolled": true
   },
   "outputs": [
    {
     "data": {
      "text/plain": [
       "Twenty-tens    3528\n",
       "Noughties      3521\n",
       "Nineties       1760\n",
       "Eighties       1054\n",
       "Seventies       505\n",
       "Sixties         358\n",
       "Name: decades, dtype: int64"
      ]
     },
     "execution_count": 115,
     "metadata": {},
     "output_type": "execute_result"
    }
   ],
   "source": [
    "movies_new.decades.value_counts()"
   ]
  },
  {
   "cell_type": "code",
   "execution_count": 116,
   "id": "cdecb6e1",
   "metadata": {},
   "outputs": [
    {
     "data": {
      "text/plain": [
       "True"
      ]
     },
     "execution_count": 116,
     "metadata": {},
     "output_type": "execute_result"
    }
   ],
   "source": [
    "# Confirming if all our release year value has been categorized \n",
    "movies_new.decades.value_counts().sum() == movies_new.release_year.value_counts().sum()"
   ]
  },
  {
   "cell_type": "code",
   "execution_count": 117,
   "id": "0907e998",
   "metadata": {},
   "outputs": [],
   "source": [
    "movies_new.to_csv('tmdb-movies_clean.csv', index = False)"
   ]
  },
  {
   "cell_type": "markdown",
   "id": "be1b29ef",
   "metadata": {},
   "source": [
    "## Exploratory Data Analysis\n",
    "> We will analyse the cleaned data and create visualizations with matplotlib that will address the research questions that were listed in our Research Questions section"
   ]
  },
  {
   "cell_type": "code",
   "execution_count": 118,
   "id": "b2ab4da9",
   "metadata": {
    "scrolled": false
   },
   "outputs": [
    {
     "data": {
      "text/html": [
       "<div>\n",
       "<style scoped>\n",
       "    .dataframe tbody tr th:only-of-type {\n",
       "        vertical-align: middle;\n",
       "    }\n",
       "\n",
       "    .dataframe tbody tr th {\n",
       "        vertical-align: top;\n",
       "    }\n",
       "\n",
       "    .dataframe thead th {\n",
       "        text-align: right;\n",
       "    }\n",
       "</style>\n",
       "<table border=\"1\" class=\"dataframe\">\n",
       "  <thead>\n",
       "    <tr style=\"text-align: right;\">\n",
       "      <th></th>\n",
       "      <th>id</th>\n",
       "      <th>imdb_id</th>\n",
       "      <th>popularity</th>\n",
       "      <th>budget</th>\n",
       "      <th>revenue</th>\n",
       "      <th>original_title</th>\n",
       "      <th>cast</th>\n",
       "      <th>homepage</th>\n",
       "      <th>director</th>\n",
       "      <th>runtime</th>\n",
       "      <th>genres</th>\n",
       "      <th>release_date</th>\n",
       "      <th>release_year</th>\n",
       "      <th>decades</th>\n",
       "    </tr>\n",
       "  </thead>\n",
       "  <tbody>\n",
       "    <tr>\n",
       "      <th>0</th>\n",
       "      <td>135397</td>\n",
       "      <td>tt0369610</td>\n",
       "      <td>32.985763</td>\n",
       "      <td>150000000.0</td>\n",
       "      <td>1.513529e+09</td>\n",
       "      <td>Jurassic World</td>\n",
       "      <td>Chris Pratt|Bryce Dallas Howard|Irrfan Khan|Vi...</td>\n",
       "      <td>http://www.jurassicworld.com/</td>\n",
       "      <td>Colin Trevorrow</td>\n",
       "      <td>124</td>\n",
       "      <td>Action</td>\n",
       "      <td>2015-06-09</td>\n",
       "      <td>2015</td>\n",
       "      <td>Twenty-tens</td>\n",
       "    </tr>\n",
       "    <tr>\n",
       "      <th>1</th>\n",
       "      <td>76341</td>\n",
       "      <td>tt1392190</td>\n",
       "      <td>28.419936</td>\n",
       "      <td>150000000.0</td>\n",
       "      <td>3.784364e+08</td>\n",
       "      <td>Mad Max: Fury Road</td>\n",
       "      <td>Tom Hardy|Charlize Theron|Hugh Keays-Byrne|Nic...</td>\n",
       "      <td>http://www.madmaxmovie.com/</td>\n",
       "      <td>George Miller</td>\n",
       "      <td>120</td>\n",
       "      <td>Action</td>\n",
       "      <td>2015-05-13</td>\n",
       "      <td>2015</td>\n",
       "      <td>Twenty-tens</td>\n",
       "    </tr>\n",
       "    <tr>\n",
       "      <th>2</th>\n",
       "      <td>262500</td>\n",
       "      <td>tt2908446</td>\n",
       "      <td>13.112507</td>\n",
       "      <td>110000000.0</td>\n",
       "      <td>2.952382e+08</td>\n",
       "      <td>Insurgent</td>\n",
       "      <td>Shailene Woodley|Theo James|Kate Winslet|Ansel...</td>\n",
       "      <td>http://www.thedivergentseries.movie/#insurgent</td>\n",
       "      <td>Robert Schwentke</td>\n",
       "      <td>119</td>\n",
       "      <td>Adventure</td>\n",
       "      <td>2015-03-18</td>\n",
       "      <td>2015</td>\n",
       "      <td>Twenty-tens</td>\n",
       "    </tr>\n",
       "    <tr>\n",
       "      <th>3</th>\n",
       "      <td>140607</td>\n",
       "      <td>tt2488496</td>\n",
       "      <td>11.173104</td>\n",
       "      <td>200000000.0</td>\n",
       "      <td>2.068178e+09</td>\n",
       "      <td>Star Wars: The Force Awakens</td>\n",
       "      <td>Harrison Ford|Mark Hamill|Carrie Fisher|Adam D...</td>\n",
       "      <td>http://www.starwars.com/films/star-wars-episod...</td>\n",
       "      <td>J.J. Abrams</td>\n",
       "      <td>136</td>\n",
       "      <td>Action</td>\n",
       "      <td>2015-12-15</td>\n",
       "      <td>2015</td>\n",
       "      <td>Twenty-tens</td>\n",
       "    </tr>\n",
       "    <tr>\n",
       "      <th>4</th>\n",
       "      <td>168259</td>\n",
       "      <td>tt2820852</td>\n",
       "      <td>9.335014</td>\n",
       "      <td>190000000.0</td>\n",
       "      <td>1.506249e+09</td>\n",
       "      <td>Furious 7</td>\n",
       "      <td>Vin Diesel|Paul Walker|Jason Statham|Michelle ...</td>\n",
       "      <td>http://www.furious7.com/</td>\n",
       "      <td>James Wan</td>\n",
       "      <td>137</td>\n",
       "      <td>Action</td>\n",
       "      <td>2015-04-01</td>\n",
       "      <td>2015</td>\n",
       "      <td>Twenty-tens</td>\n",
       "    </tr>\n",
       "  </tbody>\n",
       "</table>\n",
       "</div>"
      ],
      "text/plain": [
       "       id    imdb_id  popularity       budget       revenue  \\\n",
       "0  135397  tt0369610   32.985763  150000000.0  1.513529e+09   \n",
       "1   76341  tt1392190   28.419936  150000000.0  3.784364e+08   \n",
       "2  262500  tt2908446   13.112507  110000000.0  2.952382e+08   \n",
       "3  140607  tt2488496   11.173104  200000000.0  2.068178e+09   \n",
       "4  168259  tt2820852    9.335014  190000000.0  1.506249e+09   \n",
       "\n",
       "                 original_title  \\\n",
       "0                Jurassic World   \n",
       "1            Mad Max: Fury Road   \n",
       "2                     Insurgent   \n",
       "3  Star Wars: The Force Awakens   \n",
       "4                     Furious 7   \n",
       "\n",
       "                                                cast  \\\n",
       "0  Chris Pratt|Bryce Dallas Howard|Irrfan Khan|Vi...   \n",
       "1  Tom Hardy|Charlize Theron|Hugh Keays-Byrne|Nic...   \n",
       "2  Shailene Woodley|Theo James|Kate Winslet|Ansel...   \n",
       "3  Harrison Ford|Mark Hamill|Carrie Fisher|Adam D...   \n",
       "4  Vin Diesel|Paul Walker|Jason Statham|Michelle ...   \n",
       "\n",
       "                                            homepage          director  \\\n",
       "0                      http://www.jurassicworld.com/   Colin Trevorrow   \n",
       "1                        http://www.madmaxmovie.com/     George Miller   \n",
       "2     http://www.thedivergentseries.movie/#insurgent  Robert Schwentke   \n",
       "3  http://www.starwars.com/films/star-wars-episod...       J.J. Abrams   \n",
       "4                           http://www.furious7.com/         James Wan   \n",
       "\n",
       "   runtime     genres release_date  release_year      decades  \n",
       "0      124     Action   2015-06-09          2015  Twenty-tens  \n",
       "1      120     Action   2015-05-13          2015  Twenty-tens  \n",
       "2      119  Adventure   2015-03-18          2015  Twenty-tens  \n",
       "3      136     Action   2015-12-15          2015  Twenty-tens  \n",
       "4      137     Action   2015-04-01          2015  Twenty-tens  "
      ]
     },
     "execution_count": 118,
     "metadata": {},
     "output_type": "execute_result"
    }
   ],
   "source": [
    "#Loading the clean Dataset and importing libraries so there is no need loading each cell from the top\n",
    "\n",
    "import pandas as pd\n",
    "import numpy as np\n",
    "import matplotlib.pyplot as plt\n",
    "import seaborn as sns\n",
    "%matplotlib inline\n",
    "\n",
    "df_movies = pd.read_csv('tmdb-movies_clean.csv')\n",
    "df_movies.head()"
   ]
  },
  {
   "cell_type": "markdown",
   "id": "ed224881",
   "metadata": {},
   "source": [
    "## 1. Do movies get more popularity with time and which decade enjoyed high amount of popularity"
   ]
  },
  {
   "cell_type": "code",
   "execution_count": 119,
   "id": "63ff40be",
   "metadata": {
    "scrolled": true
   },
   "outputs": [
    {
     "data": {
      "text/plain": [
       "decades\n",
       "Eighties       0.526730\n",
       "Nineties       0.621971\n",
       "Noughties      0.637191\n",
       "Seventies      0.486451\n",
       "Sixties        0.428118\n",
       "Twenty-tens    0.767968\n",
       "Name: popularity, dtype: float64"
      ]
     },
     "execution_count": 119,
     "metadata": {},
     "output_type": "execute_result"
    }
   ],
   "source": [
    "pop_mean = df_movies.groupby('decades')['popularity'].mean()\n",
    "pop_mean"
   ]
  },
  {
   "cell_type": "code",
   "execution_count": 120,
   "id": "f90f499c",
   "metadata": {
    "scrolled": true
   },
   "outputs": [
    {
     "data": {
      "image/png": "[encoded data removed]",
      "text/plain": [
       "<Figure size 432x288 with 1 Axes>"
      ]
     },
     "metadata": {
      "needs_background": "light"
     },
     "output_type": "display_data"
    }
   ],
   "source": [
    "# Create a bar chart with proper labels\n",
    "\n",
    "pop_mean.plot(kind='bar', title='Average Popularity by decades', fontsize= 12);\n",
    "plt.xlabel('Decade', fontsize=18)\n",
    "plt.ylabel('Average Popularity', fontsize=18);"
   ]
  },
  {
   "cell_type": "markdown",
   "id": "a5d60fc1",
   "metadata": {},
   "source": [
    "> **Do movies get more popular with time?**<br><br>\n",
    "> It is clear from the analysis that latest movies enjoy more popularity<br><br>\n",
    "> Movies in the twenty-tens (2010 - 2019) enjoyed high popularity<br><br>\n",
    "> Movies in the sixties (1960 - 1969) endured less popularity"
   ]
  },
  {
   "cell_type": "markdown",
   "id": "3afdfe7f",
   "metadata": {},
   "source": [
    "## 2. Which Genre of music made more profit in the 21st century"
   ]
  },
  {
   "cell_type": "code",
   "execution_count": 121,
   "id": "8994aefe",
   "metadata": {},
   "outputs": [
    {
     "data": {
      "text/plain": [
       "7049"
      ]
     },
     "execution_count": 121,
     "metadata": {},
     "output_type": "execute_result"
    }
   ],
   "source": [
    "# A dataframe of movies realeased in the 21st century\n",
    "millenium_movies = df_movies.query('release_year >= 2000')\n",
    "millenium_movies.shape[0]"
   ]
  },
  {
   "cell_type": "code",
   "execution_count": 122,
   "id": "dfef7a3e",
   "metadata": {
    "scrolled": false
   },
   "outputs": [
    {
     "name": "stderr",
     "output_type": "stream",
     "text": [
      "C:\\Users\\Crowtech\\AppData\\Local\\Temp\\ipykernel_8868\\44646790.py:3: SettingWithCopyWarning: \n",
      "A value is trying to be set on a copy of a slice from a DataFrame.\n",
      "Try using .loc[row_indexer,col_indexer] = value instead\n",
      "\n",
      "See the caveats in the documentation: https://pandas.pydata.org/pandas-docs/stable/user_guide/indexing.html#returning-a-view-versus-a-copy\n",
      "  millenium_movies[columns] = millenium_movies[columns].replace(0, np.NaN)\n",
      "C:\\Users\\Crowtech\\AppData\\Local\\Temp\\ipykernel_8868\\44646790.py:4: SettingWithCopyWarning: \n",
      "A value is trying to be set on a copy of a slice from a DataFrame\n",
      "\n",
      "See the caveats in the documentation: https://pandas.pydata.org/pandas-docs/stable/user_guide/indexing.html#returning-a-view-versus-a-copy\n",
      "  millenium_movies.dropna(subset = columns, inplace = True)\n"
     ]
    },
    {
     "data": {
      "text/plain": [
       "(2496, 14)"
      ]
     },
     "execution_count": 122,
     "metadata": {},
     "output_type": "execute_result"
    }
   ],
   "source": [
    "# Dropping budget and revenue columns that have a zero amount\n",
    "columns = ['budget', 'revenue']\n",
    "millenium_movies[columns] = millenium_movies[columns].replace(0, np.NaN)\n",
    "millenium_movies.dropna(subset = columns, inplace = True)\n",
    "millenium_movies.shape"
   ]
  },
  {
   "cell_type": "code",
   "execution_count": 123,
   "id": "24712416",
   "metadata": {},
   "outputs": [
    {
     "data": {
      "text/plain": [
       "(2496, 14)"
      ]
     },
     "execution_count": 123,
     "metadata": {},
     "output_type": "execute_result"
    }
   ],
   "source": [
    "millenium_movies.shape"
   ]
  },
  {
   "cell_type": "markdown",
   "id": "65a6fb69",
   "metadata": {},
   "source": [
    "> **We have to do some wrangling here by creating a profit column for our willenium data to address our questions**"
   ]
  },
  {
   "cell_type": "code",
   "execution_count": 124,
   "id": "081bcb31",
   "metadata": {
    "scrolled": true
   },
   "outputs": [
    {
     "name": "stderr",
     "output_type": "stream",
     "text": [
      "C:\\Users\\Crowtech\\AppData\\Local\\Temp\\ipykernel_8868\\2749394118.py:1: SettingWithCopyWarning: \n",
      "A value is trying to be set on a copy of a slice from a DataFrame.\n",
      "Try using .loc[row_indexer,col_indexer] = value instead\n",
      "\n",
      "See the caveats in the documentation: https://pandas.pydata.org/pandas-docs/stable/user_guide/indexing.html#returning-a-view-versus-a-copy\n",
      "  millenium_movies['profits'] = millenium_movies.revenue - millenium_movies.budget\n"
     ]
    },
    {
     "data": {
      "text/html": [
       "<div>\n",
       "<style scoped>\n",
       "    .dataframe tbody tr th:only-of-type {\n",
       "        vertical-align: middle;\n",
       "    }\n",
       "\n",
       "    .dataframe tbody tr th {\n",
       "        vertical-align: top;\n",
       "    }\n",
       "\n",
       "    .dataframe thead th {\n",
       "        text-align: right;\n",
       "    }\n",
       "</style>\n",
       "<table border=\"1\" class=\"dataframe\">\n",
       "  <thead>\n",
       "    <tr style=\"text-align: right;\">\n",
       "      <th></th>\n",
       "      <th>id</th>\n",
       "      <th>imdb_id</th>\n",
       "      <th>popularity</th>\n",
       "      <th>budget</th>\n",
       "      <th>revenue</th>\n",
       "      <th>original_title</th>\n",
       "      <th>cast</th>\n",
       "      <th>homepage</th>\n",
       "      <th>director</th>\n",
       "      <th>runtime</th>\n",
       "      <th>genres</th>\n",
       "      <th>release_date</th>\n",
       "      <th>release_year</th>\n",
       "      <th>decades</th>\n",
       "      <th>profits</th>\n",
       "    </tr>\n",
       "  </thead>\n",
       "  <tbody>\n",
       "    <tr>\n",
       "      <th>0</th>\n",
       "      <td>135397</td>\n",
       "      <td>tt0369610</td>\n",
       "      <td>32.985763</td>\n",
       "      <td>150000000.0</td>\n",
       "      <td>1.513529e+09</td>\n",
       "      <td>Jurassic World</td>\n",
       "      <td>Chris Pratt|Bryce Dallas Howard|Irrfan Khan|Vi...</td>\n",
       "      <td>http://www.jurassicworld.com/</td>\n",
       "      <td>Colin Trevorrow</td>\n",
       "      <td>124</td>\n",
       "      <td>Action</td>\n",
       "      <td>2015-06-09</td>\n",
       "      <td>2015</td>\n",
       "      <td>Twenty-tens</td>\n",
       "      <td>1.363529e+09</td>\n",
       "    </tr>\n",
       "    <tr>\n",
       "      <th>1</th>\n",
       "      <td>76341</td>\n",
       "      <td>tt1392190</td>\n",
       "      <td>28.419936</td>\n",
       "      <td>150000000.0</td>\n",
       "      <td>3.784364e+08</td>\n",
       "      <td>Mad Max: Fury Road</td>\n",
       "      <td>Tom Hardy|Charlize Theron|Hugh Keays-Byrne|Nic...</td>\n",
       "      <td>http://www.madmaxmovie.com/</td>\n",
       "      <td>George Miller</td>\n",
       "      <td>120</td>\n",
       "      <td>Action</td>\n",
       "      <td>2015-05-13</td>\n",
       "      <td>2015</td>\n",
       "      <td>Twenty-tens</td>\n",
       "      <td>2.284364e+08</td>\n",
       "    </tr>\n",
       "    <tr>\n",
       "      <th>2</th>\n",
       "      <td>262500</td>\n",
       "      <td>tt2908446</td>\n",
       "      <td>13.112507</td>\n",
       "      <td>110000000.0</td>\n",
       "      <td>2.952382e+08</td>\n",
       "      <td>Insurgent</td>\n",
       "      <td>Shailene Woodley|Theo James|Kate Winslet|Ansel...</td>\n",
       "      <td>http://www.thedivergentseries.movie/#insurgent</td>\n",
       "      <td>Robert Schwentke</td>\n",
       "      <td>119</td>\n",
       "      <td>Adventure</td>\n",
       "      <td>2015-03-18</td>\n",
       "      <td>2015</td>\n",
       "      <td>Twenty-tens</td>\n",
       "      <td>1.852382e+08</td>\n",
       "    </tr>\n",
       "    <tr>\n",
       "      <th>3</th>\n",
       "      <td>140607</td>\n",
       "      <td>tt2488496</td>\n",
       "      <td>11.173104</td>\n",
       "      <td>200000000.0</td>\n",
       "      <td>2.068178e+09</td>\n",
       "      <td>Star Wars: The Force Awakens</td>\n",
       "      <td>Harrison Ford|Mark Hamill|Carrie Fisher|Adam D...</td>\n",
       "      <td>http://www.starwars.com/films/star-wars-episod...</td>\n",
       "      <td>J.J. Abrams</td>\n",
       "      <td>136</td>\n",
       "      <td>Action</td>\n",
       "      <td>2015-12-15</td>\n",
       "      <td>2015</td>\n",
       "      <td>Twenty-tens</td>\n",
       "      <td>1.868178e+09</td>\n",
       "    </tr>\n",
       "    <tr>\n",
       "      <th>4</th>\n",
       "      <td>168259</td>\n",
       "      <td>tt2820852</td>\n",
       "      <td>9.335014</td>\n",
       "      <td>190000000.0</td>\n",
       "      <td>1.506249e+09</td>\n",
       "      <td>Furious 7</td>\n",
       "      <td>Vin Diesel|Paul Walker|Jason Statham|Michelle ...</td>\n",
       "      <td>http://www.furious7.com/</td>\n",
       "      <td>James Wan</td>\n",
       "      <td>137</td>\n",
       "      <td>Action</td>\n",
       "      <td>2015-04-01</td>\n",
       "      <td>2015</td>\n",
       "      <td>Twenty-tens</td>\n",
       "      <td>1.316249e+09</td>\n",
       "    </tr>\n",
       "  </tbody>\n",
       "</table>\n",
       "</div>"
      ],
      "text/plain": [
       "       id    imdb_id  popularity       budget       revenue  \\\n",
       "0  135397  tt0369610   32.985763  150000000.0  1.513529e+09   \n",
       "1   76341  tt1392190   28.419936  150000000.0  3.784364e+08   \n",
       "2  262500  tt2908446   13.112507  110000000.0  2.952382e+08   \n",
       "3  140607  tt2488496   11.173104  200000000.0  2.068178e+09   \n",
       "4  168259  tt2820852    9.335014  190000000.0  1.506249e+09   \n",
       "\n",
       "                 original_title  \\\n",
       "0                Jurassic World   \n",
       "1            Mad Max: Fury Road   \n",
       "2                     Insurgent   \n",
       "3  Star Wars: The Force Awakens   \n",
       "4                     Furious 7   \n",
       "\n",
       "                                                cast  \\\n",
       "0  Chris Pratt|Bryce Dallas Howard|Irrfan Khan|Vi...   \n",
       "1  Tom Hardy|Charlize Theron|Hugh Keays-Byrne|Nic...   \n",
       "2  Shailene Woodley|Theo James|Kate Winslet|Ansel...   \n",
       "3  Harrison Ford|Mark Hamill|Carrie Fisher|Adam D...   \n",
       "4  Vin Diesel|Paul Walker|Jason Statham|Michelle ...   \n",
       "\n",
       "                                            homepage          director  \\\n",
       "0                      http://www.jurassicworld.com/   Colin Trevorrow   \n",
       "1                        http://www.madmaxmovie.com/     George Miller   \n",
       "2     http://www.thedivergentseries.movie/#insurgent  Robert Schwentke   \n",
       "3  http://www.starwars.com/films/star-wars-episod...       J.J. Abrams   \n",
       "4                           http://www.furious7.com/         James Wan   \n",
       "\n",
       "   runtime     genres release_date  release_year      decades       profits  \n",
       "0      124     Action   2015-06-09          2015  Twenty-tens  1.363529e+09  \n",
       "1      120     Action   2015-05-13          2015  Twenty-tens  2.284364e+08  \n",
       "2      119  Adventure   2015-03-18          2015  Twenty-tens  1.852382e+08  \n",
       "3      136     Action   2015-12-15          2015  Twenty-tens  1.868178e+09  \n",
       "4      137     Action   2015-04-01          2015  Twenty-tens  1.316249e+09  "
      ]
     },
     "execution_count": 124,
     "metadata": {},
     "output_type": "execute_result"
    }
   ],
   "source": [
    "millenium_movies['profits'] = millenium_movies.revenue - millenium_movies.budget\n",
    "millenium_movies.head()"
   ]
  },
  {
   "cell_type": "code",
   "execution_count": 125,
   "id": "019a5340",
   "metadata": {
    "scrolled": true
   },
   "outputs": [
    {
     "data": {
      "text/plain": [
       "genres\n",
       "Action             1.034685e+08\n",
       "Adventure          1.906027e+08\n",
       "Animation          2.177913e+08\n",
       "Comedy             5.410392e+07\n",
       "Crime              3.711114e+07\n",
       "Documentary        1.932375e+07\n",
       "Drama              3.631277e+07\n",
       "Family             1.633425e+08\n",
       "Fantasy            1.252653e+08\n",
       "History            7.717734e+07\n",
       "Horror             4.784372e+07\n",
       "Music              4.796266e+07\n",
       "Mystery            2.983893e+07\n",
       "Romance            6.020611e+07\n",
       "Science Fiction    1.585939e+08\n",
       "Thriller           4.723373e+07\n",
       "War                1.005404e+08\n",
       "Western            3.473339e+07\n",
       "Name: profits, dtype: float64"
      ]
     },
     "execution_count": 125,
     "metadata": {},
     "output_type": "execute_result"
    }
   ],
   "source": [
    "df_genre_profit = millenium_movies.groupby('genres')['profits'].mean()\n",
    "df_genre_profit"
   ]
  },
  {
   "cell_type": "code",
   "execution_count": 126,
   "id": "86c793e8",
   "metadata": {
    "scrolled": true
   },
   "outputs": [
    {
     "data": {
      "image/png": "[encoded data removed]",
      "text/plain": [
       "<Figure size 720x432 with 1 Axes>"
      ]
     },
     "metadata": {
      "needs_background": "light"
     },
     "output_type": "display_data"
    }
   ],
   "source": [
    "# Create a bar chart with proper labels\n",
    "\n",
    "df_genre_profit.plot(kind='bar', title='Genres of Movies and profit made in the 21st century',figsize=(10, 6), fontsize= 12);\n",
    "plt.xlabel('Movie Genres', fontsize=18)\n",
    "plt.ylabel('Profit Made', fontsize=18);"
   ]
  },
  {
   "cell_type": "markdown",
   "id": "660c6d2c",
   "metadata": {},
   "source": [
    "> **Which Genre of movies had more profit in the 21st century?**<br><br>\n",
    "> **Animations** movies made the highest amount of profit<br><br>\n",
    "> **Documentary** movies made the lowest amount of profit"
   ]
  },
  {
   "cell_type": "code",
   "execution_count": 127,
   "id": "15c85a7e",
   "metadata": {
    "scrolled": true
   },
   "outputs": [
    {
     "data": {
      "image/png": "[encoded data removed]",
      "text/plain": [
       "<Figure size 432x288 with 1 Axes>"
      ]
     },
     "metadata": {
      "needs_background": "light"
     },
     "output_type": "display_data"
    }
   ],
   "source": [
    "# Distribution of profits in the new millenium\n",
    "plt.title(\"Distribution of profits in the new millenium\")\n",
    "millenium_movies['profits'].plot(kind ='hist');"
   ]
  },
  {
   "cell_type": "markdown",
   "id": "d8656f7c",
   "metadata": {},
   "source": [
    "**Distribution of profits in the new millenium**<br>\n",
    "> The profit distribution is skewed to the right showing a positive skew-distribution"
   ]
  },
  {
   "cell_type": "markdown",
   "id": "75d0113f",
   "metadata": {},
   "source": [
    "## 3. Movie with the highest and lowest profit in the 21st century"
   ]
  },
  {
   "cell_type": "code",
   "execution_count": 128,
   "id": "c96d9f28",
   "metadata": {},
   "outputs": [
    {
     "data": {
      "text/plain": [
       "id                                                            19995\n",
       "imdb_id                                                   tt0499549\n",
       "popularity                                                 9.432768\n",
       "budget                                                  237000000.0\n",
       "revenue                                                2781505847.0\n",
       "original_title                                               Avatar\n",
       "cast              Sam Worthington|Zoe Saldana|Sigourney Weaver|S...\n",
       "homepage                                http://www.avatarmovie.com/\n",
       "director                                              James Cameron\n",
       "runtime                                                         162\n",
       "genres                                                       Action\n",
       "release_date                                             2009-12-10\n",
       "release_year                                                   2009\n",
       "decades                                                   Noughties\n",
       "profits                                                2544505847.0\n",
       "Name: 1355, dtype: object"
      ]
     },
     "execution_count": 128,
     "metadata": {},
     "output_type": "execute_result"
    }
   ],
   "source": [
    "# Movie with the highest profit in the 21st century\n",
    "millenium_movies.loc[millenium_movies['profits'].idxmax()]"
   ]
  },
  {
   "cell_type": "code",
   "execution_count": 129,
   "id": "3046c5fa",
   "metadata": {
    "scrolled": true
   },
   "outputs": [
    {
     "data": {
      "text/plain": [
       "id                                                            46528\n",
       "imdb_id                                                   tt1032751\n",
       "popularity                                                  0.25054\n",
       "budget                                                  425000000.0\n",
       "revenue                                                  11087569.0\n",
       "original_title                                    The Warrior's Way\n",
       "cast              Kate Bosworth|Jang Dong-gun|Geoffrey Rush|Dann...\n",
       "homepage                     http://www.iamrogue.com/thewarriorsway\n",
       "director                                                 Sngmoo Lee\n",
       "runtime                                                         100\n",
       "genres                                                    Adventure\n",
       "release_date                                             2010-12-02\n",
       "release_year                                                   2010\n",
       "decades                                                 Twenty-tens\n",
       "profits                                                -413912431.0\n",
       "Name: 2201, dtype: object"
      ]
     },
     "execution_count": 129,
     "metadata": {},
     "output_type": "execute_result"
    }
   ],
   "source": [
    "# Movie with the lowest profit in the 21st century\n",
    "millenium_movies.loc[millenium_movies['profits'].idxmin()]"
   ]
  },
  {
   "cell_type": "markdown",
   "id": "3dfce654",
   "metadata": {},
   "source": [
    "> **Movies with the highest and lowest profit in the 21st century?**<br><br>\n",
    "> **Avatar** made the highest amount of profit with **\\$2,544,505,847**<br><br>\n",
    "> **The Warrior's Way** made the lowest amount of profit with **-\\$413,912,431**\n",
    "> "
   ]
  },
  {
   "cell_type": "markdown",
   "id": "c5d33a06",
   "metadata": {},
   "source": [
    "## 4. Do Movies with higher runtime enjoy more popularity"
   ]
  },
  {
   "cell_type": "code",
   "execution_count": 130,
   "id": "04134a18",
   "metadata": {},
   "outputs": [
    {
     "data": {
      "text/plain": [
       "99.0"
      ]
     },
     "execution_count": 130,
     "metadata": {},
     "output_type": "execute_result"
    }
   ],
   "source": [
    "# Checking for the median runtime\n",
    "runtime_median = df_movies['runtime'].median()\n",
    "runtime_median"
   ]
  },
  {
   "cell_type": "code",
   "execution_count": 131,
   "id": "e8a5dda1",
   "metadata": {
    "scrolled": true
   },
   "outputs": [
    {
     "data": {
      "text/html": [
       "<div>\n",
       "<style scoped>\n",
       "    .dataframe tbody tr th:only-of-type {\n",
       "        vertical-align: middle;\n",
       "    }\n",
       "\n",
       "    .dataframe tbody tr th {\n",
       "        vertical-align: top;\n",
       "    }\n",
       "\n",
       "    .dataframe thead th {\n",
       "        text-align: right;\n",
       "    }\n",
       "</style>\n",
       "<table border=\"1\" class=\"dataframe\">\n",
       "  <thead>\n",
       "    <tr style=\"text-align: right;\">\n",
       "      <th></th>\n",
       "      <th>id</th>\n",
       "      <th>imdb_id</th>\n",
       "      <th>popularity</th>\n",
       "      <th>budget</th>\n",
       "      <th>revenue</th>\n",
       "      <th>original_title</th>\n",
       "      <th>cast</th>\n",
       "      <th>homepage</th>\n",
       "      <th>director</th>\n",
       "      <th>runtime</th>\n",
       "      <th>genres</th>\n",
       "      <th>release_date</th>\n",
       "      <th>release_year</th>\n",
       "      <th>decades</th>\n",
       "    </tr>\n",
       "  </thead>\n",
       "  <tbody>\n",
       "    <tr>\n",
       "      <th>0</th>\n",
       "      <td>135397</td>\n",
       "      <td>tt0369610</td>\n",
       "      <td>32.985763</td>\n",
       "      <td>150000000.0</td>\n",
       "      <td>1.513529e+09</td>\n",
       "      <td>Jurassic World</td>\n",
       "      <td>Chris Pratt|Bryce Dallas Howard|Irrfan Khan|Vi...</td>\n",
       "      <td>http://www.jurassicworld.com/</td>\n",
       "      <td>Colin Trevorrow</td>\n",
       "      <td>124</td>\n",
       "      <td>Action</td>\n",
       "      <td>2015-06-09</td>\n",
       "      <td>2015</td>\n",
       "      <td>Twenty-tens</td>\n",
       "    </tr>\n",
       "    <tr>\n",
       "      <th>1</th>\n",
       "      <td>76341</td>\n",
       "      <td>tt1392190</td>\n",
       "      <td>28.419936</td>\n",
       "      <td>150000000.0</td>\n",
       "      <td>3.784364e+08</td>\n",
       "      <td>Mad Max: Fury Road</td>\n",
       "      <td>Tom Hardy|Charlize Theron|Hugh Keays-Byrne|Nic...</td>\n",
       "      <td>http://www.madmaxmovie.com/</td>\n",
       "      <td>George Miller</td>\n",
       "      <td>120</td>\n",
       "      <td>Action</td>\n",
       "      <td>2015-05-13</td>\n",
       "      <td>2015</td>\n",
       "      <td>Twenty-tens</td>\n",
       "    </tr>\n",
       "    <tr>\n",
       "      <th>2</th>\n",
       "      <td>262500</td>\n",
       "      <td>tt2908446</td>\n",
       "      <td>13.112507</td>\n",
       "      <td>110000000.0</td>\n",
       "      <td>2.952382e+08</td>\n",
       "      <td>Insurgent</td>\n",
       "      <td>Shailene Woodley|Theo James|Kate Winslet|Ansel...</td>\n",
       "      <td>http://www.thedivergentseries.movie/#insurgent</td>\n",
       "      <td>Robert Schwentke</td>\n",
       "      <td>119</td>\n",
       "      <td>Adventure</td>\n",
       "      <td>2015-03-18</td>\n",
       "      <td>2015</td>\n",
       "      <td>Twenty-tens</td>\n",
       "    </tr>\n",
       "  </tbody>\n",
       "</table>\n",
       "</div>"
      ],
      "text/plain": [
       "       id    imdb_id  popularity       budget       revenue  \\\n",
       "0  135397  tt0369610   32.985763  150000000.0  1.513529e+09   \n",
       "1   76341  tt1392190   28.419936  150000000.0  3.784364e+08   \n",
       "2  262500  tt2908446   13.112507  110000000.0  2.952382e+08   \n",
       "\n",
       "       original_title                                               cast  \\\n",
       "0      Jurassic World  Chris Pratt|Bryce Dallas Howard|Irrfan Khan|Vi...   \n",
       "1  Mad Max: Fury Road  Tom Hardy|Charlize Theron|Hugh Keays-Byrne|Nic...   \n",
       "2           Insurgent  Shailene Woodley|Theo James|Kate Winslet|Ansel...   \n",
       "\n",
       "                                         homepage          director  runtime  \\\n",
       "0                   http://www.jurassicworld.com/   Colin Trevorrow      124   \n",
       "1                     http://www.madmaxmovie.com/     George Miller      120   \n",
       "2  http://www.thedivergentseries.movie/#insurgent  Robert Schwentke      119   \n",
       "\n",
       "      genres release_date  release_year      decades  \n",
       "0     Action   2015-06-09          2015  Twenty-tens  \n",
       "1     Action   2015-05-13          2015  Twenty-tens  \n",
       "2  Adventure   2015-03-18          2015  Twenty-tens  "
      ]
     },
     "execution_count": 131,
     "metadata": {},
     "output_type": "execute_result"
    }
   ],
   "source": [
    "# Check for movies with higher runtime(above median)\n",
    "high_runtime = df_movies.query(f'runtime >= {runtime_median}')\n",
    "high_runtime.head(3)"
   ]
  },
  {
   "cell_type": "code",
   "execution_count": 132,
   "id": "0677d584",
   "metadata": {},
   "outputs": [
    {
     "data": {
      "text/html": [
       "<div>\n",
       "<style scoped>\n",
       "    .dataframe tbody tr th:only-of-type {\n",
       "        vertical-align: middle;\n",
       "    }\n",
       "\n",
       "    .dataframe tbody tr th {\n",
       "        vertical-align: top;\n",
       "    }\n",
       "\n",
       "    .dataframe thead th {\n",
       "        text-align: right;\n",
       "    }\n",
       "</style>\n",
       "<table border=\"1\" class=\"dataframe\">\n",
       "  <thead>\n",
       "    <tr style=\"text-align: right;\">\n",
       "      <th></th>\n",
       "      <th>id</th>\n",
       "      <th>imdb_id</th>\n",
       "      <th>popularity</th>\n",
       "      <th>budget</th>\n",
       "      <th>revenue</th>\n",
       "      <th>original_title</th>\n",
       "      <th>cast</th>\n",
       "      <th>homepage</th>\n",
       "      <th>director</th>\n",
       "      <th>runtime</th>\n",
       "      <th>genres</th>\n",
       "      <th>release_date</th>\n",
       "      <th>release_year</th>\n",
       "      <th>decades</th>\n",
       "    </tr>\n",
       "  </thead>\n",
       "  <tbody>\n",
       "    <tr>\n",
       "      <th>8</th>\n",
       "      <td>211672</td>\n",
       "      <td>tt2293640</td>\n",
       "      <td>7.404165</td>\n",
       "      <td>74000000.0</td>\n",
       "      <td>1.156731e+09</td>\n",
       "      <td>Minions</td>\n",
       "      <td>Sandra Bullock|Jon Hamm|Michael Keaton|Allison...</td>\n",
       "      <td>http://www.minionsmovie.com/</td>\n",
       "      <td>Kyle Balda|Pierre Coffin</td>\n",
       "      <td>91</td>\n",
       "      <td>Family</td>\n",
       "      <td>2015-06-17</td>\n",
       "      <td>2015</td>\n",
       "      <td>Twenty-tens</td>\n",
       "    </tr>\n",
       "    <tr>\n",
       "      <th>9</th>\n",
       "      <td>150540</td>\n",
       "      <td>tt2096673</td>\n",
       "      <td>6.326804</td>\n",
       "      <td>175000000.0</td>\n",
       "      <td>8.537086e+08</td>\n",
       "      <td>Inside Out</td>\n",
       "      <td>Amy Poehler|Phyllis Smith|Richard Kind|Bill Ha...</td>\n",
       "      <td>http://movies.disney.com/inside-out</td>\n",
       "      <td>Pete Docter</td>\n",
       "      <td>94</td>\n",
       "      <td>Comedy</td>\n",
       "      <td>2015-06-09</td>\n",
       "      <td>2015</td>\n",
       "      <td>Twenty-tens</td>\n",
       "    </tr>\n",
       "    <tr>\n",
       "      <th>37</th>\n",
       "      <td>105864</td>\n",
       "      <td>tt1979388</td>\n",
       "      <td>3.339135</td>\n",
       "      <td>175000000.0</td>\n",
       "      <td>3.319261e+08</td>\n",
       "      <td>The Good Dinosaur</td>\n",
       "      <td>Raymond Ochoa|Jack Bright|Jeffrey Wright|Franc...</td>\n",
       "      <td>http://movies.disney.com/the-good-dinosaur</td>\n",
       "      <td>Peter Sohn</td>\n",
       "      <td>93</td>\n",
       "      <td>Adventure</td>\n",
       "      <td>2015-11-14</td>\n",
       "      <td>2015</td>\n",
       "      <td>Twenty-tens</td>\n",
       "    </tr>\n",
       "  </tbody>\n",
       "</table>\n",
       "</div>"
      ],
      "text/plain": [
       "        id    imdb_id  popularity       budget       revenue  \\\n",
       "8   211672  tt2293640    7.404165   74000000.0  1.156731e+09   \n",
       "9   150540  tt2096673    6.326804  175000000.0  8.537086e+08   \n",
       "37  105864  tt1979388    3.339135  175000000.0  3.319261e+08   \n",
       "\n",
       "       original_title                                               cast  \\\n",
       "8             Minions  Sandra Bullock|Jon Hamm|Michael Keaton|Allison...   \n",
       "9          Inside Out  Amy Poehler|Phyllis Smith|Richard Kind|Bill Ha...   \n",
       "37  The Good Dinosaur  Raymond Ochoa|Jack Bright|Jeffrey Wright|Franc...   \n",
       "\n",
       "                                      homepage                  director  \\\n",
       "8                 http://www.minionsmovie.com/  Kyle Balda|Pierre Coffin   \n",
       "9          http://movies.disney.com/inside-out               Pete Docter   \n",
       "37  http://movies.disney.com/the-good-dinosaur                Peter Sohn   \n",
       "\n",
       "    runtime     genres release_date  release_year      decades  \n",
       "8        91     Family   2015-06-17          2015  Twenty-tens  \n",
       "9        94     Comedy   2015-06-09          2015  Twenty-tens  \n",
       "37       93  Adventure   2015-11-14          2015  Twenty-tens  "
      ]
     },
     "execution_count": 132,
     "metadata": {},
     "output_type": "execute_result"
    }
   ],
   "source": [
    "# Check for movies with lower runtime(above median)\n",
    "low_runtime = df_movies.query(f'runtime < {runtime_median}')\n",
    "low_runtime.head(3)"
   ]
  },
  {
   "cell_type": "code",
   "execution_count": 133,
   "id": "c6a91126",
   "metadata": {
    "scrolled": true
   },
   "outputs": [
    {
     "data": {
      "text/plain": [
       "id                True\n",
       "imdb_id           True\n",
       "popularity        True\n",
       "budget            True\n",
       "revenue           True\n",
       "original_title    True\n",
       "cast              True\n",
       "homepage          True\n",
       "director          True\n",
       "runtime           True\n",
       "genres            True\n",
       "release_date      True\n",
       "release_year      True\n",
       "decades           True\n",
       "dtype: bool"
      ]
     },
     "execution_count": 133,
     "metadata": {},
     "output_type": "execute_result"
    }
   ],
   "source": [
    "# Confirming if all our datas are grouped into low and high runtime\n",
    "df_movies.count() == low_runtime.count() + high_runtime.count()"
   ]
  },
  {
   "cell_type": "code",
   "execution_count": 134,
   "id": "921bd520",
   "metadata": {},
   "outputs": [
    {
     "data": {
      "text/plain": [
       "(0.4766702072823801, 0.8230747157527966)"
      ]
     },
     "execution_count": 134,
     "metadata": {},
     "output_type": "execute_result"
    }
   ],
   "source": [
    "pop_low_runtime = low_runtime['popularity'].mean()\n",
    "pop_high_runtime = high_runtime['popularity'].mean()\n",
    "pop_low_runtime, pop_high_runtime"
   ]
  },
  {
   "cell_type": "code",
   "execution_count": 135,
   "id": "b7b61fed",
   "metadata": {
    "scrolled": true
   },
   "outputs": [
    {
     "data": {
      "image/png": "[encoded data removed]",
      "text/plain": [
       "<Figure size 432x288 with 1 Axes>"
      ]
     },
     "metadata": {
      "needs_background": "light"
     },
     "output_type": "display_data"
    }
   ],
   "source": [
    "labels = ['Low Runtime', 'High Runtime']\n",
    "height = [pop_low_runtime, pop_high_runtime]\n",
    "plt.bar(labels, height)\n",
    "plt.title(\"Movie Runtime with respect to their Popularity\", fontsize=16)\n",
    "plt.xlabel(\"Runtime\", fontsize=13)\n",
    "plt.ylabel(\"Average Popularity\", fontsize=13);"
   ]
  },
  {
   "cell_type": "markdown",
   "id": "91f34e99",
   "metadata": {},
   "source": [
    "> **Do movies with higher runtime enjoy more popularity**<br><br>\n",
    "> Yes, the analysis showed that movies with higher runtime had higher popularity"
   ]
  },
  {
   "cell_type": "markdown",
   "id": "8d01aede",
   "metadata": {},
   "source": [
    "## 5. Is there any correlation between runtime and profit"
   ]
  },
  {
   "cell_type": "code",
   "execution_count": 136,
   "id": "96364441",
   "metadata": {},
   "outputs": [
    {
     "data": {
      "text/plain": [
       "(3849, 14)"
      ]
     },
     "execution_count": 136,
     "metadata": {},
     "output_type": "execute_result"
    }
   ],
   "source": [
    "# Dropping budget and revenue columns that have a zero amount\n",
    "columns = ['budget', 'revenue']\n",
    "df_movies[columns] = df_movies[columns].replace(0, np.NaN)\n",
    "df_movies.dropna(subset = columns, inplace = True)\n",
    "df_movies.shape"
   ]
  },
  {
   "cell_type": "code",
   "execution_count": 137,
   "id": "8a524d0b",
   "metadata": {},
   "outputs": [],
   "source": [
    "# Creating a profit column for the cleaned movies\n",
    "df_movies['profits'] = df_movies['revenue'] - df_movies['budget']"
   ]
  },
  {
   "cell_type": "code",
   "execution_count": 138,
   "id": "4a4a4110",
   "metadata": {},
   "outputs": [
    {
     "data": {
      "text/html": [
       "<div>\n",
       "<style scoped>\n",
       "    .dataframe tbody tr th:only-of-type {\n",
       "        vertical-align: middle;\n",
       "    }\n",
       "\n",
       "    .dataframe tbody tr th {\n",
       "        vertical-align: top;\n",
       "    }\n",
       "\n",
       "    .dataframe thead th {\n",
       "        text-align: right;\n",
       "    }\n",
       "</style>\n",
       "<table border=\"1\" class=\"dataframe\">\n",
       "  <thead>\n",
       "    <tr style=\"text-align: right;\">\n",
       "      <th></th>\n",
       "      <th>id</th>\n",
       "      <th>imdb_id</th>\n",
       "      <th>popularity</th>\n",
       "      <th>budget</th>\n",
       "      <th>revenue</th>\n",
       "      <th>original_title</th>\n",
       "      <th>cast</th>\n",
       "      <th>homepage</th>\n",
       "      <th>director</th>\n",
       "      <th>runtime</th>\n",
       "      <th>genres</th>\n",
       "      <th>release_date</th>\n",
       "      <th>release_year</th>\n",
       "      <th>decades</th>\n",
       "      <th>profits</th>\n",
       "    </tr>\n",
       "  </thead>\n",
       "  <tbody>\n",
       "    <tr>\n",
       "      <th>0</th>\n",
       "      <td>135397</td>\n",
       "      <td>tt0369610</td>\n",
       "      <td>32.985763</td>\n",
       "      <td>150000000.0</td>\n",
       "      <td>1.513529e+09</td>\n",
       "      <td>Jurassic World</td>\n",
       "      <td>Chris Pratt|Bryce Dallas Howard|Irrfan Khan|Vi...</td>\n",
       "      <td>http://www.jurassicworld.com/</td>\n",
       "      <td>Colin Trevorrow</td>\n",
       "      <td>124</td>\n",
       "      <td>Action</td>\n",
       "      <td>2015-06-09</td>\n",
       "      <td>2015</td>\n",
       "      <td>Twenty-tens</td>\n",
       "      <td>1.363529e+09</td>\n",
       "    </tr>\n",
       "  </tbody>\n",
       "</table>\n",
       "</div>"
      ],
      "text/plain": [
       "       id    imdb_id  popularity       budget       revenue  original_title  \\\n",
       "0  135397  tt0369610   32.985763  150000000.0  1.513529e+09  Jurassic World   \n",
       "\n",
       "                                                cast  \\\n",
       "0  Chris Pratt|Bryce Dallas Howard|Irrfan Khan|Vi...   \n",
       "\n",
       "                        homepage         director  runtime  genres  \\\n",
       "0  http://www.jurassicworld.com/  Colin Trevorrow      124  Action   \n",
       "\n",
       "  release_date  release_year      decades       profits  \n",
       "0   2015-06-09          2015  Twenty-tens  1.363529e+09  "
      ]
     },
     "execution_count": 138,
     "metadata": {},
     "output_type": "execute_result"
    }
   ],
   "source": [
    "# hecking our dataframe to see our profits column\n",
    "df_movies.head(1)"
   ]
  },
  {
   "cell_type": "code",
   "execution_count": 144,
   "id": "fd9722e6",
   "metadata": {},
   "outputs": [],
   "source": [
    "#function that defines scatterplot for relationships between two items\n",
    "def scatterplot(size, x, y, alpha_val, title, x_label, y_label):\n",
    "    plt.figure(figsize=size)\n",
    "    plt.scatter(x, y, alpha=alpha_val)\n",
    "    plt.title(title, fontsize=14)\n",
    "    plt.xlabel(x_label, fontsize=12)\n",
    "    plt.ylabel(y_label, fontsize=12)\n",
    "    plt.show();"
   ]
  },
  {
   "cell_type": "code",
   "execution_count": 147,
   "id": "5c80019f",
   "metadata": {
    "scrolled": false
   },
   "outputs": [
    {
     "data": {
      "image/png": "[encoded data removed]",
      "text/plain": [
       "<Figure size 720x432 with 1 Axes>"
      ]
     },
     "metadata": {
      "needs_background": "light"
     },
     "output_type": "display_data"
    }
   ],
   "source": [
    "# Scatter plots to show the relationship between Runtime and Profits\n",
    "scatterplot((10,6), df_movies.runtime, df_movies.profits, 0.7, \"The relationship between Profits and Runtime\", \"Runtime\", \"Profit\")"
   ]
  },
  {
   "cell_type": "markdown",
   "id": "2b4ffd1e",
   "metadata": {},
   "source": [
    "> Most of the movies have runtime in range of 80 to 130 Minutes."
   ]
  },
  {
   "cell_type": "code",
   "execution_count": 150,
   "id": "cd931cf3",
   "metadata": {},
   "outputs": [
    {
     "data": {
      "text/plain": [
       "28"
      ]
     },
     "execution_count": 150,
     "metadata": {},
     "output_type": "execute_result"
    }
   ],
   "source": [
    "#Percentage of movies that made losses\n",
    "df_movies_losses = df_movies.query('profits < 0')\n",
    "loss = df_movies_losses.value_counts().sum()\n",
    "total = df_movies.value_counts().sum()\n",
    "percentage_of_loss = (loss/total) * 100\n",
    "round(percentage_of_loss)"
   ]
  },
  {
   "cell_type": "markdown",
   "id": "174d58ec",
   "metadata": {},
   "source": [
    "> **28% of movies in the dataset made losses**"
   ]
  },
  {
   "cell_type": "markdown",
   "id": "649d8931",
   "metadata": {},
   "source": [
    "## 6. What is the relationship between profit and revenue"
   ]
  },
  {
   "cell_type": "code",
   "execution_count": 149,
   "id": "25e190d5",
   "metadata": {
    "scrolled": true
   },
   "outputs": [
    {
     "data": {
      "image/png": "[encoded data removed]",
      "text/plain": [
       "<Figure size 720x432 with 1 Axes>"
      ]
     },
     "metadata": {
      "needs_background": "light"
     },
     "output_type": "display_data"
    }
   ],
   "source": [
    "# Scatter plots to show the relationship between Profits and Revenue\n",
    "scatterplot((10,6), df_movies.revenue, df_movies.profits, 0.7, \"The relationship between Profits and Revenue\", \"Revenue\", \"Profit\")"
   ]
  },
  {
   "cell_type": "markdown",
   "id": "2c1cc3f1",
   "metadata": {},
   "source": [
    "> **The relationship between profit and the revenue**<br><br>\n",
    "The analysis showed that the higher revenue, the higher the profits "
   ]
  },
  {
   "cell_type": "markdown",
   "id": "eb65cf0c",
   "metadata": {},
   "source": [
    "## Conclusion"
   ]
  },
  {
   "cell_type": "markdown",
   "id": "22f33dba",
   "metadata": {},
   "source": [
    "**The conclusion drawn after wrangling and exploratory analysis are as follows:**<br>\n",
    "> 1. Movies released in recent times have a higher average popularity, the recent a movie is, the higher the average popularity<br>\n",
    "> 2. Animation movies have been found to be more lucrative in the 21st century (year 2000 and beyond)<br>\n",
    "> 3. Avatar made the highest profit in the 21st century and The warrior's way made the lowest profit<br>\n",
    "> 4. Our analysis showed some movies made losses as the revenue was lesser than the budget<br>\n",
    "> 5. Movies with higher runtime enjoyed high popularity when compared to movies with lower runtime<br>\n",
    "> 6. There is a strong correlation in movies with runtime ranging from 80 minutes to 130 minutes<br>\n",
    "> 7. There is a positive correlation between revenue and profit, movies with higher revenue tends to make more profits."
   ]
  },
  {
   "cell_type": "markdown",
   "id": "f1970760",
   "metadata": {},
   "source": [
    "## Limitations"
   ]
  },
  {
   "cell_type": "markdown",
   "id": "2ebc6ecc",
   "metadata": {},
   "source": [
    "**This conclusion is not void of limitations and the limitations are as follows:**<br>\n",
    "> 1. We have some details that were missing which reduced our sample size\n",
    "> 2. Budgets and revenues of some movies were zero which is almost impossible realistically and dropping them reduced our sample size\n",
    "> 3. This conclusion is not totally void of error"
   ]
  }
 ],
 "metadata": {
  "kernelspec": {
   "display_name": "Python 3 (ipykernel)",
   "language": "python",
   "name": "python3"
  },
  "language_info": {
   "codemirror_mode": {
    "name": "ipython",
    "version": 3
   },
   "file_extension": ".py",
   "mimetype": "text/x-python",
   "name": "python",
   "nbconvert_exporter": "python",
   "pygments_lexer": "ipython3",
   "version": "3.9.12"
  }
 },
 "nbformat": 4,
 "nbformat_minor": 5
}
